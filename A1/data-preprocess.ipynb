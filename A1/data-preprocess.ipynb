{
 "cells": [
  {
   "cell_type": "code",
   "execution_count": 1,
   "id": "a2d53589",
   "metadata": {},
   "outputs": [],
   "source": [
    "import pandas as pd\n",
    "import numpy as np\n",
    "import matplotlib.pyplot as plt\n",
    "import os"
   ]
  },
  {
   "cell_type": "code",
   "execution_count": 2,
   "id": "e6b91e4a",
   "metadata": {},
   "outputs": [
    {
     "name": "stdout",
     "output_type": "stream",
     "text": [
      "<class 'pandas.core.frame.DataFrame'>\n",
      "RangeIndex: 7478 entries, 0 to 7477\n",
      "Data columns (total 20 columns):\n",
      " #   Column               Non-Null Count  Dtype  \n",
      "---  ------               --------------  -----  \n",
      " 0   _id                  7478 non-null   int64  \n",
      " 1   death_date_and_time  7478 non-null   object \n",
      " 2   manner_of_death      7478 non-null   object \n",
      " 3   age                  7478 non-null   int64  \n",
      " 4   sex                  7478 non-null   object \n",
      " 5   race                 7474 non-null   object \n",
      " 6   case_dispo           7478 non-null   object \n",
      " 7   combined_od1         7478 non-null   object \n",
      " 8   combined_od2         6053 non-null   object \n",
      " 9   combined_od3         4088 non-null   object \n",
      " 10  combined_od4         2207 non-null   object \n",
      " 11  combined_od5         995 non-null    object \n",
      " 12  combined_od6         384 non-null    object \n",
      " 13  combined_od7         160 non-null    object \n",
      " 14  combined_od8         47 non-null     object \n",
      " 15  combined_od9         15 non-null     object \n",
      " 16  combined_od10        1 non-null      object \n",
      " 17  incident_zip         7254 non-null   object \n",
      " 18  decedent_zip         0 non-null      float64\n",
      " 19  case_year            7478 non-null   int64  \n",
      "dtypes: float64(1), int64(3), object(16)\n",
      "memory usage: 1.1+ MB\n",
      "None\n"
     ]
    }
   ],
   "source": [
    "df = pd.read_csv(\"/Users/15840/Desktop/2025Fall/05619/A1/fatal.csv\")\n",
    "print(df.info())"
   ]
  },
  {
   "cell_type": "code",
   "execution_count": 4,
   "id": "fac50311",
   "metadata": {},
   "outputs": [
    {
     "name": "stdout",
     "output_type": "stream",
     "text": [
      "                            min         max  zero_count\n",
      "_id                  11567450.0  11574927.0           0\n",
      "age                         0.0        91.0           5\n",
      "case_dispo                  NaN         NaN           0\n",
      "case_year                2007.0      2025.0           0\n",
      "combined_od1                NaN         NaN           0\n",
      "combined_od10               NaN         NaN           0\n",
      "combined_od2                NaN         NaN           0\n",
      "combined_od3                NaN         NaN           0\n",
      "combined_od4                NaN         NaN           0\n",
      "combined_od5                NaN         NaN           0\n",
      "combined_od6                NaN         NaN           0\n",
      "combined_od7                NaN         NaN           0\n",
      "combined_od8                NaN         NaN           0\n",
      "combined_od9                NaN         NaN           0\n",
      "death_date_and_time         NaN         NaN           0\n",
      "decedent_zip                NaN         NaN           0\n",
      "incident_zip                NaN         NaN           0\n",
      "manner_of_death             NaN         NaN           0\n",
      "race                        NaN         NaN           0\n",
      "sex                         NaN         NaN           0\n"
     ]
    }
   ],
   "source": [
    "summary = pd.DataFrame({\n",
    "    \"min\": df.min(numeric_only=True),\n",
    "    \"max\": df.max(numeric_only=True),\n",
    "    \"zero_count\": (df == 0).sum()\n",
    "})\n",
    "print(summary)"
   ]
  },
  {
   "cell_type": "code",
   "execution_count": 25,
   "id": "ff3adc25",
   "metadata": {},
   "outputs": [
    {
     "data": {
      "text/plain": [
       "sex\n",
       "M    5151\n",
       "F    2327\n",
       "Name: count, dtype: int64"
      ]
     },
     "execution_count": 25,
     "metadata": {},
     "output_type": "execute_result"
    }
   ],
   "source": [
    "df[\"sex\"].value_counts(dropna=False)"
   ]
  },
  {
   "cell_type": "code",
   "execution_count": 8,
   "id": "de44acde",
   "metadata": {},
   "outputs": [
    {
     "data": {
      "text/plain": [
       "race\n",
       "W      5927\n",
       "B      1461\n",
       "H        43\n",
       "O        17\n",
       "A        13\n",
       "I         5\n",
       "NaN       4\n",
       "U         4\n",
       "M         4\n",
       "Name: count, dtype: int64"
      ]
     },
     "execution_count": 8,
     "metadata": {},
     "output_type": "execute_result"
    }
   ],
   "source": [
    "df[\"race\"].value_counts(dropna=False)"
   ]
  },
  {
   "cell_type": "code",
   "execution_count": 9,
   "id": "e3b99020",
   "metadata": {},
   "outputs": [
    {
     "data": {
      "text/plain": [
       "manner_of_death\n",
       "Accident    7478\n",
       "Name: count, dtype: int64"
      ]
     },
     "execution_count": 9,
     "metadata": {},
     "output_type": "execute_result"
    }
   ],
   "source": [
    "df[\"manner_of_death\"].value_counts(dropna=False)"
   ]
  },
  {
   "cell_type": "code",
   "execution_count": 13,
   "id": "a354850a",
   "metadata": {},
   "outputs": [
    {
     "name": "stdout",
     "output_type": "stream",
     "text": [
      "['1531' '1547' 'ooc' '15-71' '1522']\n"
     ]
    }
   ],
   "source": [
    "df[\"incident_zip\"].str.match(r\"^\\d{5}$\").value_counts()\n",
    "missing_zip = df[\"incident_zip\"].isna().sum()\n",
    "valid_mask = df[\"incident_zip\"].astype(str).str.match(r\"^\\d{5}$\")\n",
    "invalid_zips = df.loc[~valid_mask & df[\"incident_zip\"].notna(), \"incident_zip\"].unique()\n",
    "print(invalid_zips)"
   ]
  },
  {
   "cell_type": "code",
   "execution_count": 16,
   "id": "4e6217ca",
   "metadata": {},
   "outputs": [
    {
     "name": "stdout",
     "output_type": "stream",
     "text": [
      "           _id death_date_and_time manner_of_death  age sex race case_dispo  \\\n",
      "3698  11571148 2021-01-01 00:55:00        Accident   36   F    W         MO   \n",
      "5048  11572498 2022-01-01 05:59:00        Accident   48   M    W         MO   \n",
      "\n",
      "     combined_od1     combined_od2         combined_od3 combined_od4  \\\n",
      "3698     Fentanyl  Methamphetamine              Cocaine          NaN   \n",
      "5048      Cocaine         Fentanyl  Para-Fluorofentanyl          NaN   \n",
      "\n",
      "     combined_od5 combined_od6 combined_od7 combined_od8 combined_od9  \\\n",
      "3698          NaN          NaN          NaN          NaN          NaN   \n",
      "5048          NaN          NaN          NaN          NaN          NaN   \n",
      "\n",
      "     combined_od10 incident_zip  decedent_zip  case_year  \n",
      "3698           NaN        15211           NaN       2020  \n",
      "5048           NaN        15212           NaN       2021  \n"
     ]
    }
   ],
   "source": [
    "df[\"death_date_and_time\"] = pd.to_datetime(df[\"death_date_and_time\"], errors=\"coerce\")\n",
    "mismatch = df[df[\"death_date_and_time\"].dt.year != df[\"case_year\"]]\n",
    "print(mismatch)"
   ]
  },
  {
   "cell_type": "code",
   "execution_count": 19,
   "id": "6ccaed7f",
   "metadata": {},
   "outputs": [],
   "source": [
    "keep_cols = [\"_id\", \"age\", \"incident_zip\", \"case_year\", \"death_date_and_time\"]\n",
    "df_new = df[keep_cols]"
   ]
  },
  {
   "cell_type": "code",
   "execution_count": 27,
   "id": "6cc65c8c",
   "metadata": {},
   "outputs": [],
   "source": [
    "df_new = df_new[df_new[\"incident_zip\"].astype(str).str.match(r\"^\\d{5}$\")]\n",
    "\n",
    "out_path = \"/Users/15840/Desktop/2025Fall/05619/A1/fatal_selected.csv\"\n",
    "df_new.to_csv(out_path, index=False)\n"
   ]
  },
  {
   "cell_type": "code",
   "execution_count": 24,
   "id": "425ff069",
   "metadata": {},
   "outputs": [
    {
     "name": "stdout",
     "output_type": "stream",
     "text": [
      "<class 'pandas.core.frame.DataFrame'>\n",
      "Index: 7249 entries, 0 to 7477\n",
      "Data columns (total 6 columns):\n",
      " #   Column               Non-Null Count  Dtype         \n",
      "---  ------               --------------  -----         \n",
      " 0   _id                  7249 non-null   int64         \n",
      " 1   age                  7249 non-null   int64         \n",
      " 2   incident_zip         7249 non-null   object        \n",
      " 3   case_year            7249 non-null   int64         \n",
      " 4   death_date_and_time  7249 non-null   datetime64[ns]\n",
      " 5   incident_zip_clean   7249 non-null   object        \n",
      "dtypes: datetime64[ns](1), int64(3), object(2)\n",
      "memory usage: 396.4+ KB\n",
      "None\n"
     ]
    }
   ],
   "source": [
    "print(df_new.info())"
   ]
  }
 ],
 "metadata": {
  "kernelspec": {
   "display_name": "12-746",
   "language": "python",
   "name": "python3"
  },
  "language_info": {
   "codemirror_mode": {
    "name": "ipython",
    "version": 3
   },
   "file_extension": ".py",
   "mimetype": "text/x-python",
   "name": "python",
   "nbconvert_exporter": "python",
   "pygments_lexer": "ipython3",
   "version": "3.8.20"
  }
 },
 "nbformat": 4,
 "nbformat_minor": 5
}
